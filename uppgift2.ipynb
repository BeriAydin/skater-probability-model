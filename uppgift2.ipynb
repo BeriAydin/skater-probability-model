{
  "cells": [
    {
      "cell_type": "markdown",
      "metadata": {},
      "source": [
        "# **Projekt SF1930 - LCQ Finalist Prediction**\n",
        "\n",
        "**Syfte:**\n",
        "Vi förutspår vilka skateboardåkare som kvalificerar sig till finalen i SLS Super Crown Championship genom statistisk modellering.\n",
        "\n",
        "**Huvudsteg:**\n",
        "- Normalisera trick- och run-betyg.\n",
        "- Skatta sannolikheten att landa trick och trickpoäng.\n",
        "- Använd momentmetoden för att estimera nyckelparametrar.\n",
        "- Simulera LCQ-resultat 5000 gånger för att förutse finalister.\n",
        "\n",
        "---\n",
        "\n",
        "# **Uppgift 2a: Skattning av $\\theta$ (Landningssannolikhet)**\n",
        "\n",
        "**Vad är $\\theta$?**\n",
        "- $\\theta$ är sannolikheten att en skateboardåkare landar ett trick.\n",
        "- Vi använder **momentmetoden** för att skatta $\\theta$ baserat på historisk data.\n",
        "\n",
        "**Vad gör vi här?**\n",
        "- Läser in data och filtrerar ut LCQ-deltagare.\n",
        "- Beräknar andelen landade trick för varje åkare.\n",
        "- Sparar resultaten i en parameter-tabell."
      ]
    },
    {
      "cell_type": "code",
      "execution_count": 1,
      "metadata": {},
      "outputs": [
        {
          "name": "stdout",
          "output_type": "stream",
          "text": [
            "Exempel på skattade theta-värden:\n",
            "        id   theta\n",
            "0  Decenzo  0.4375\n",
            "1    Eaton  0.6250\n",
            "2      Foy  0.5000\n",
            "3  Gustavo  0.4000\n",
            "4    Hoban  0.4000\n"
          ]
        }
      ],
      "source": [
        "import pandas as pd\n",
        "import numpy as np\n",
        "import matplotlib.pyplot as plt\n",
        "from collections import Counter\n",
        "\n",
        "# Läs in data\n",
        "df = pd.read_parquet(\"df.parquet.gzip\").set_index(\"id\")\n",
        "\n",
        "# Definiera LCQ-deltagare\n",
        "ids = [\"Majerus\", \"Oliveira\", \"Decenzo\", \"Santiago\", \"Papa\", \"Eaton\", \"Mota\", \"Shirai\", \"Jordan\", \"Hoefler\", \"Hoban\", \"Gustavo\", \"Ribeiro C\", \"O’neill\", \"Foy\", \"Midler\"]\n",
        "makes = [\"make 1\", \"make 2\", \"make 3\", \"make 4\"]\n",
        "\n",
        "# Filtrera datasetet för LCQ-åkare\n",
        "LQC = df.loc[ids, :]\n",
        "LQC_make = df.loc[ids, makes]\n",
        "\n",
        "# Beräkna momentmetodsskattning av \\theta\n",
        "grouped_LQC_make = LQC_make.groupby(\"id\").sum().sum(axis=1)\n",
        "tricks_count = LQC.index.value_counts() * 4\n",
        "theta = (grouped_LQC_make / tricks_count).reset_index()\n",
        "theta.columns = [\"id\", \"theta\"]\n",
        "\n",
        "# Visa några av de beräknade theta-värdena\n",
        "print(\"Exempel på skattade theta-värden:\")\n",
        "print(theta.head())"
      ]
    },
    {
      "cell_type": "markdown",
      "metadata": {},
      "source": [
        "# **Uppgift 2b: Skattning av $\\alpha$ och $\\beta$ (Trickprestanda)**\n",
        "\n",
        "**Vad är $\\alpha$ och $\\beta$?**\n",
        "- $\\alpha$ och $\\beta$ styr betafördelningen för trickpoäng.\n",
        "- Högre $\\alpha$ betyder oftare höga poäng, medan högre $\\beta$ betyder oftare låga poäng.\n",
        "\n",
        "**Vad gör vi här?**\n",
        "- Beräknar första ($m_1$) och andra ($m_2$) momentet.\n",
        "- Använder momentmetoden för att skatta $\\alpha$ och $\\beta$.\n",
        "- Justerar parametrarna för stabilitet."
      ]
    },
    {
      "cell_type": "code",
      "execution_count": 2,
      "metadata": {},
      "outputs": [
        {
          "name": "stdout",
          "output_type": "stream",
          "text": [
            "Exempel på skattade alfa och beta-värden:\n",
            "        id        alfa\n",
            "0  Decenzo   24.455929\n",
            "1    Eaton   75.408256\n",
            "2      Foy   51.589516\n",
            "3  Gustavo   70.644593\n",
            "4    Hoban  107.698921\n",
            "        id       beta\n",
            "0  Decenzo   5.110825\n",
            "1    Eaton  20.045233\n",
            "2      Foy   9.104032\n",
            "3  Gustavo  17.523386\n",
            "4    Hoban  15.034892\n"
          ]
        }
      ],
      "source": [
        "tricks = [\"trick 1\", \"trick 2\", \"trick 3\", \"trick 4\"]\n",
        "LQC_tricks = LQC.loc[:, tricks]\n",
        "\n",
        "sum_LQC_tricks = LQC_tricks.groupby(\"id\").sum().sum(axis=1)\n",
        "LQC_tricks_squared = LQC_tricks.apply(lambda x: x**2)\n",
        "sum_LQC_tricks_squared = LQC_tricks_squared.groupby(\"id\").sum().sum(axis=1)\n",
        "\n",
        "m1 = sum_LQC_tricks / grouped_LQC_make\n",
        "m2 = sum_LQC_tricks_squared / grouped_LQC_make\n",
        "\n",
        "# Skatta alfa och beta\n",
        "alfa_x = (m1 * (m1 * (1 - m1) / (m2 - m1**2) - 1)).reset_index()\n",
        "beta_x = (((m1 - m2) * (1 - m1)) / (m2 - m1**2)).reset_index()\n",
        "\n",
        "alfa_x.columns = [\"id\", \"alfa\"]\n",
        "beta_x.columns = [\"id\", \"beta\"]\n",
        "\n",
        "# Justering för Santiago\n",
        "alfa_x.loc[alfa_x[\"id\"] == \"Santiago\", \"alfa\"] = 1\n",
        "beta_x.loc[beta_x[\"id\"] == \"Santiago\", \"beta\"] = 1\n",
        "\n",
        "# Visa några av de skattade parametrarna\n",
        "print(\"Exempel på skattade alfa och beta-värden:\")\n",
        "print(alfa_x.head())\n",
        "print(beta_x.head())\n",
        "\n",
        "# Spara alla parametrar\n",
        "alla_param = pd.DataFrame({\"id\": alfa_x[\"id\"], \"theta\": theta[\"theta\"], \"alpha\": alfa_x[\"alfa\"], \"beta\": beta_x[\"beta\"]})\n",
        "alla_param.round(2).to_csv('alla2.csv', index=False)"
      ]
    },
    {
      "cell_type": "markdown",
      "metadata": {},
      "source": [
        "# **Uppgift 2c: Skattning av $\\alpha_y$ och $\\beta_y$ (Runprestationer)**\n",
        "\n",
        "**Vad gör vi här?**\n",
        "- Beräknar momentmetodsskattningar för betafördelningen av run-betyg.\n"
      ]
    },
    {
      "cell_type": "code",
      "execution_count": 3,
      "metadata": {},
      "outputs": [
        {
          "name": "stdout",
          "output_type": "stream",
          "text": [
            "Exempel på skattade runparametrar:\n",
            "        id        alfa\n",
            "0  Decenzo    4.164506\n",
            "1    Eaton  103.573288\n",
            "2      Foy    3.506609\n",
            "3  Gustavo    1.228081\n",
            "4    Hoban    3.632207\n",
            "        id       beta\n",
            "0  Decenzo   2.834664\n",
            "1    Eaton  36.865068\n",
            "2      Foy   4.088934\n",
            "3  Gustavo   0.856946\n",
            "4    Hoban   2.096826\n"
          ]
        }
      ],
      "source": [
        "runs = [\"run 1\", \"run 2\"]\n",
        "LQC_runs = LQC.loc[:, runs]\n",
        "\n",
        "sum_LQC_runs = LQC_runs.groupby(\"id\").sum().sum(axis=1)\n",
        "LQC_runs_squared = LQC_runs.apply(lambda x: x**2)\n",
        "sum_LQC_runs_squared = LQC_runs_squared.groupby(\"id\").sum().sum(axis=1)\n",
        "nr_runs = LQC_runs.index.value_counts() * 2\n",
        "\n",
        "m1_y = sum_LQC_runs / nr_runs\n",
        "m2_y = sum_LQC_runs_squared / nr_runs\n",
        "\n",
        "alfa_y = (m1_y * (m1_y * (1 - m1_y) / (m2_y - m1_y**2) - 1)).reset_index()\n",
        "beta_y = (((m1_y - m2_y) * (1 - m1_y)) / (m2_y - m1_y**2)).reset_index()\n",
        "\n",
        "alfa_y.columns = [\"id\", \"alfa\"]\n",
        "beta_y.columns = [\"id\", \"beta\"]\n",
        "\n",
        "# Visa några av de skattade runparametrarna\n",
        "print(\"Exempel på skattade runparametrar:\")\n",
        "print(alfa_y.head())\n",
        "print(beta_y.head())\n",
        "\n",
        "# Spara parametrar\n",
        "alla_param_y = pd.DataFrame({\"id\": alfa_x[\"id\"], \"alpha\": alfa_y[\"alfa\"], \"beta\": beta_y[\"beta\"]})\n",
        "alla_param_y.round(2).to_csv('allay2.csv', index=False)"
      ]
    },
    {
      "cell_type": "markdown",
      "metadata": {},
      "source": [
        "# **Uppgift 2d: Simulering av LCQ-finaler**\n",
        "\n",
        "**Vad gör vi här?**\n",
        "- Simulerar **5000 LCQ-tävlingar**.\n",
        "- Beräknar skateboardåkarnas totala poäng.\n",
        "- Identifierar de åkare som oftast kvalificerar sig till finalen."
      ]
    },
    {
      "cell_type": "code",
      "execution_count": 4,
      "metadata": {},
      "outputs": [
        {
          "name": "stdout",
          "output_type": "stream",
          "text": [
            "Mest frekventa finalister:\n",
            "Jordan: 2483 gånger\n",
            "Eaton: 2411 gånger\n",
            "Shirai: 2295 gånger\n",
            "Hoban: 2175 gånger\n"
          ]
        }
      ],
      "source": [
        "from collections import Counter\n",
        "\n",
        "# Skapa DataFrame för att lagra totalpoäng\n",
        "total_grades = pd.DataFrame({\"id\": ids, \"total_grade\": None})\n",
        "nested_finalists = []\n",
        "\n",
        "# Antal simuleringar\n",
        "num_simulations = 5000\n",
        "\n",
        "for _ in range(num_simulations):\n",
        "    for id in ids:\n",
        "        # Simulera trick och runs\n",
        "        V = np.random.binomial(1, theta.loc[theta[\"id\"] == id, \"theta\"], 4)\n",
        "        Z = np.random.beta(alfa_x.loc[alfa_x[\"id\"] == id, \"alfa\"], beta_x.loc[beta_x[\"id\"] == id, \"beta\"], 4)\n",
        "        tricks = V * Z\n",
        "        runs = np.random.beta(alfa_y.loc[alfa_y[\"id\"] == id, \"alfa\"], beta_y.loc[beta_y[\"id\"] == id, \"beta\"], 2)\n",
        "\n",
        "        # Beräkna totalpoäng\n",
        "        total_grade = tricks.max() + np.delete(tricks, np.argmax(tricks)).max() + runs.max()\n",
        "        total_grades.loc[total_grades[\"id\"] == id, \"total_grade\"] = total_grade\n",
        "\n",
        "    # Sortera poängen och hämta finalisterna\n",
        "    total_grades = total_grades.sort_values(\"total_grade\", ascending=False)\n",
        "    nested_finalists.append(total_grades.iloc[:4, 0].tolist())\n",
        "\n",
        "# Räkna hur ofta varje skateboardåkare kvalificerar sig till finalen\n",
        "skater_count = Counter([finalist for sublist in nested_finalists for finalist in sublist])\n",
        "most_common_finalists = skater_count.most_common(4)\n",
        "\n",
        "# Visa de mest frekventa finalisterna\n",
        "print(\"Mest frekventa finalister:\")\n",
        "for skater, count in most_common_finalists:\n",
        "    print(f\"{skater}: {count} gånger\")"
      ]
    },
    {
      "cell_type": "code",
      "execution_count": 5,
      "metadata": {},
      "outputs": [],
      "source": [
        "theta.to_parquet(\"theta.parquet.gzip\", compression=\"gzip\")\n",
        "alfa_x.to_parquet(\"alfax.parquet.gzip\", compression=\"gzip\")\n",
        "beta_x.to_parquet(\"betax.parquet.gzip\", compression=\"gzip\")\n",
        "alfa_y.to_parquet(\"alfay.parquet.gzip\", compression=\"gzip\")\n",
        "beta_y.to_parquet(\"betay.parquet.gzip\", compression=\"gzip\")"
      ]
    }
  ],
  "metadata": {
    "anaconda-cloud": {},
    "kernelspec": {
      "display_name": "Python 3.9.20 64-bit",
      "language": "python",
      "name": "python3"
    },
    "language_info": {
      "codemirror_mode": {
        "name": "ipython",
        "version": 3
      },
      "file_extension": ".py",
      "mimetype": "text/x-python",
      "name": "python",
      "nbconvert_exporter": "python",
      "pygments_lexer": "ipython3",
      "version": "3.9.20"
    },
    "vscode": {
      "interpreter": {
        "hash": "397704579725e15f5c7cb49fe5f0341eb7531c82d19f2c29d197e8b64ab5776b"
      }
    }
  },
  "nbformat": 4,
  "nbformat_minor": 4
}
